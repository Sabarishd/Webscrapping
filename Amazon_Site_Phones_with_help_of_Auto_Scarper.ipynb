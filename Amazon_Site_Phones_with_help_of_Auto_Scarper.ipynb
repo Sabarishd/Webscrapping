{
  "nbformat": 4,
  "nbformat_minor": 0,
  "metadata": {
    "colab": {
      "name": "Amazon Site Phones with help of Auto Scarper.ipynb",
      "provenance": [],
      "authorship_tag": "ABX9TyPRxNS79ztAHaRWeySY9fDu",
      "include_colab_link": true
    },
    "kernelspec": {
      "name": "python3",
      "display_name": "Python 3"
    },
    "language_info": {
      "name": "python"
    }
  },
  "cells": [
    {
      "cell_type": "markdown",
      "metadata": {
        "id": "view-in-github",
        "colab_type": "text"
      },
      "source": [
        "<a href=\"https://colab.research.google.com/github/Sabarishd/Webscrapping/blob/main/Amazon_Site_Phones_with_help_of_Auto_Scarper.ipynb\" target=\"_parent\"><img src=\"https://colab.research.google.com/assets/colab-badge.svg\" alt=\"Open In Colab\"/></a>"
      ]
    },
    {
      "cell_type": "markdown",
      "source": [
        "Install Autoscraper Library to to do web scraping"
      ],
      "metadata": {
        "id": "icrWJrfA0dUT"
      }
    },
    {
      "cell_type": "code",
      "execution_count": 2,
      "metadata": {
        "colab": {
          "base_uri": "https://localhost:8080/"
        },
        "id": "LJBfKKb_rQon",
        "outputId": "c3112c9d-b4f7-46e2-92f4-a7cb7d69f1b5"
      },
      "outputs": [
        {
          "output_type": "stream",
          "name": "stdout",
          "text": [
            "Collecting autoscraper\n",
            "  Downloading autoscraper-1.1.12-py3-none-any.whl (10 kB)\n",
            "Requirement already satisfied: requests in /usr/local/lib/python3.7/dist-packages (from autoscraper) (2.23.0)\n",
            "Requirement already satisfied: bs4 in /usr/local/lib/python3.7/dist-packages (from autoscraper) (0.0.1)\n",
            "Requirement already satisfied: lxml in /usr/local/lib/python3.7/dist-packages (from autoscraper) (4.2.6)\n",
            "Requirement already satisfied: beautifulsoup4 in /usr/local/lib/python3.7/dist-packages (from bs4->autoscraper) (4.6.3)\n",
            "Requirement already satisfied: certifi>=2017.4.17 in /usr/local/lib/python3.7/dist-packages (from requests->autoscraper) (2021.10.8)\n",
            "Requirement already satisfied: idna<3,>=2.5 in /usr/local/lib/python3.7/dist-packages (from requests->autoscraper) (2.10)\n",
            "Requirement already satisfied: urllib3!=1.25.0,!=1.25.1,<1.26,>=1.21.1 in /usr/local/lib/python3.7/dist-packages (from requests->autoscraper) (1.24.3)\n",
            "Requirement already satisfied: chardet<4,>=3.0.2 in /usr/local/lib/python3.7/dist-packages (from requests->autoscraper) (3.0.4)\n",
            "Installing collected packages: autoscraper\n",
            "Successfully installed autoscraper-1.1.12\n"
          ]
        }
      ],
      "source": [
        "!pip install autoscraper"
      ]
    },
    {
      "cell_type": "code",
      "source": [
        "#importing the library\n",
        "from autoscraper import AutoScraper\n",
        "Scraper = AutoScraper()"
      ],
      "metadata": {
        "id": "i9HhtCSsrZkq"
      },
      "execution_count": 54,
      "outputs": []
    },
    {
      "cell_type": "code",
      "source": [
        "#Taken Iphones Url from Amazon \n",
        "url = \"https://www.amazon.in/s?k=iphonese2022&sprefix=iphones\""
      ],
      "metadata": {
        "id": "f6oK-qKRr8t0"
      },
      "execution_count": 31,
      "outputs": []
    },
    {
      "cell_type": "code",
      "source": [
        "#Considered Iphone details requied from url\n",
        "Wanted_list = ['Apple iPhone SE (128 GB) - Midnight (3rd Generation)' ,'₹46,900']"
      ],
      "metadata": {
        "id": "1TBKY3VTsGD6"
      },
      "execution_count": 60,
      "outputs": []
    },
    {
      "cell_type": "code",
      "source": [
        "Iphone_result = Scraper.build(url,Wanted_list)"
      ],
      "metadata": {
        "id": "EBzLsxh3sUQR"
      },
      "execution_count": 72,
      "outputs": []
    },
    {
      "cell_type": "code",
      "source": [
        "print(Iphone_result)"
      ],
      "metadata": {
        "colab": {
          "base_uri": "https://localhost:8080/"
        },
        "id": "73USY7DMseDp",
        "outputId": "eec7edc6-68f1-48ef-a27f-386db840caa6"
      },
      "execution_count": 62,
      "outputs": [
        {
          "output_type": "stream",
          "name": "stdout",
          "text": [
            "['Apple iPhone SE (128 GB) - Midnight (3rd Generation)', 'Apple iPhone SE (64 GB) - (Product) RED (3rd Generation)', 'Apple iPhone SE (64 GB) - Midnight (3rd Generation)', 'Apple iPhone SE (64 GB) - Starlight (3rd Generation)', 'Apple iPhone SE (128 GB) - (Product) RED (3rd Generation)', 'Apple iPhone SE (256 GB) - (Product) RED (3rd Generation)', 'Apple iPhone SE (128 GB) - Starlight (3rd Generation)', 'Apple iPhone 13 (128GB) - Starlight', 'Samsung Galaxy S21 FE 5G (Olive, 8GB, 256GB Storage)', 'Apple iPhone 13 Mini (256 GB) - Green', 'Apple iPhone 12 (128GB) - White', 'New Apple iPhone 12 (128GB) - Black with AirPods with Charging Case', 'Apple iPhone XR (128GB) - Coral', 'Apple iPhone 13 Pro (128GB) - Graphite', 'Samsung Galaxy S22 Ultra 5G (Burgundy, 12GB, 512GB Storage) + Samsung Galaxy Watch4', 'New Apple iPhone 12 (64GB) - (Product) RED with Apple Clear Case with Magsafe (for iPhone 12, 12 Pro)', '₹46,900', '₹48,900', '₹41,900', '₹43,900', '₹56,900', '₹58,900', '₹74,900', '₹79,900', '₹58,500', '₹69,999', '₹61,900', '₹70,900', '₹70,989', '₹83,800', '₹42,999', '₹52,900', '₹1,19,900', '₹1,21,999', '₹1,61,998', '₹60,800', '₹84,800']\n"
          ]
        }
      ]
    },
    {
      "cell_type": "code",
      "source": [
        "Scraper.get_result_similar(url,grouped=True)"
      ],
      "metadata": {
        "colab": {
          "base_uri": "https://localhost:8080/"
        },
        "id": "H1tIgbd0s1DF",
        "outputId": "39318f58-384b-4e16-e3fc-fbb098ef9537"
      },
      "execution_count": 76,
      "outputs": [
        {
          "output_type": "execute_result",
          "data": {
            "text/plain": [
              "{'rule_9t6x': ['₹41,900',\n",
              "  '₹43,900',\n",
              "  '₹46,900',\n",
              "  '₹48,900',\n",
              "  '₹41,900',\n",
              "  '₹43,900',\n",
              "  '₹61,900',\n",
              "  '₹70,900',\n",
              "  '₹41,900',\n",
              "  '₹43,900',\n",
              "  '₹46,900',\n",
              "  '₹48,900',\n",
              "  '₹70,989',\n",
              "  '₹83,800',\n",
              "  '₹49,900',\n",
              "  '₹54,900',\n",
              "  '₹58,900',\n",
              "  '₹56,900',\n",
              "  '₹58,900',\n",
              "  '₹48,900',\n",
              "  '₹54,900',\n",
              "  '₹65,900',\n",
              "  '₹42,999',\n",
              "  '₹52,900',\n",
              "  '₹74,900',\n",
              "  '₹79,900',\n",
              "  '₹60,800',\n",
              "  '₹84,800',\n",
              "  '₹1,03,990',\n",
              "  '₹1,09,900'],\n",
              " 'rule_odnm': ['Apple iPhone SE (64 GB) - Midnight (3rd Generation)',\n",
              "  'Apple iPhone SE (128 GB) - Midnight (3rd Generation)',\n",
              "  'Apple iPhone SE (64 GB) - Starlight (3rd Generation)',\n",
              "  'Apple iPhone 12 (128GB) - White',\n",
              "  'Apple iPhone SE (64 GB) - (Product) RED (3rd Generation)',\n",
              "  'Apple iPhone SE (128 GB) - Starlight (3rd Generation)',\n",
              "  'New Apple iPhone 12 (128GB) - Black with AirPods with Charging Case',\n",
              "  'Apple iPhone 11 (128GB) - (Product) RED',\n",
              "  'Apple iPhone SE (256 GB) - Midnight (3rd Generation)',\n",
              "  'Apple iPhone SE (256 GB) - (Product) RED (3rd Generation)',\n",
              "  'Apple iPhone SE (128 GB) - (Product) RED (3rd Generation)',\n",
              "  'Apple iPhone 12 (64GB) - Blue',\n",
              "  'Apple iPhone XR (128GB) - Coral',\n",
              "  'Apple iPhone 13 (128GB) - Starlight',\n",
              "  'New Apple iPhone 12 (64GB) - (Product) RED with Apple Clear Case with Magsafe (for iPhone 12, 12 Pro)',\n",
              "  'Apple iPhone 13 (512GB) - Blue'],\n",
              " 'rule_q71r': ['₹41,900',\n",
              "  '₹43,900',\n",
              "  '₹46,900',\n",
              "  '₹48,900',\n",
              "  '₹41,900',\n",
              "  '₹43,900',\n",
              "  '₹61,900',\n",
              "  '₹70,900',\n",
              "  '₹41,900',\n",
              "  '₹43,900',\n",
              "  '₹46,900',\n",
              "  '₹48,900',\n",
              "  '₹70,989',\n",
              "  '₹83,800',\n",
              "  '₹49,900',\n",
              "  '₹54,900',\n",
              "  '₹58,900',\n",
              "  '₹56,900',\n",
              "  '₹58,900',\n",
              "  '₹48,900',\n",
              "  '₹54,900',\n",
              "  '₹65,900',\n",
              "  '₹42,999',\n",
              "  '₹52,900',\n",
              "  '₹74,900',\n",
              "  '₹79,900',\n",
              "  '₹60,800',\n",
              "  '₹84,800',\n",
              "  '₹1,03,990',\n",
              "  '₹1,09,900'],\n",
              " 'rule_vk4l': ['₹41,900',\n",
              "  '₹43,900',\n",
              "  '₹46,900',\n",
              "  '₹48,900',\n",
              "  '₹41,900',\n",
              "  '₹43,900',\n",
              "  '₹61,900',\n",
              "  '₹70,900',\n",
              "  '₹41,900',\n",
              "  '₹43,900',\n",
              "  '₹46,900',\n",
              "  '₹48,900',\n",
              "  '₹70,989',\n",
              "  '₹83,800',\n",
              "  '₹49,900',\n",
              "  '₹54,900',\n",
              "  '₹58,900',\n",
              "  '₹56,900',\n",
              "  '₹58,900',\n",
              "  '₹48,900',\n",
              "  '₹54,900',\n",
              "  '₹65,900',\n",
              "  '₹42,999',\n",
              "  '₹52,900',\n",
              "  '₹74,900',\n",
              "  '₹79,900',\n",
              "  '₹60,800',\n",
              "  '₹84,800',\n",
              "  '₹1,03,990',\n",
              "  '₹1,09,900'],\n",
              " 'rule_wzzr': ['₹41,900',\n",
              "  '₹43,900',\n",
              "  '₹46,900',\n",
              "  '₹48,900',\n",
              "  '₹41,900',\n",
              "  '₹43,900',\n",
              "  '₹61,900',\n",
              "  '₹70,900',\n",
              "  '₹41,900',\n",
              "  '₹43,900',\n",
              "  '₹46,900',\n",
              "  '₹48,900',\n",
              "  '₹70,989',\n",
              "  '₹83,800',\n",
              "  '₹49,900',\n",
              "  '₹54,900',\n",
              "  '₹58,900',\n",
              "  '₹56,900',\n",
              "  '₹58,900',\n",
              "  '₹48,900',\n",
              "  '₹54,900',\n",
              "  '₹65,900',\n",
              "  '₹42,999',\n",
              "  '₹52,900',\n",
              "  '₹74,900',\n",
              "  '₹79,900',\n",
              "  '₹60,800',\n",
              "  '₹84,800',\n",
              "  '₹1,03,990',\n",
              "  '₹1,09,900'],\n",
              " 'rule_x0e6': ['Apple iPhone SE (64 GB) - Midnight (3rd Generation)',\n",
              "  'Apple iPhone SE (128 GB) - Midnight (3rd Generation)',\n",
              "  'Apple iPhone SE (64 GB) - Starlight (3rd Generation)',\n",
              "  'Apple iPhone 12 (128GB) - White',\n",
              "  'Apple iPhone SE (64 GB) - (Product) RED (3rd Generation)',\n",
              "  'Apple iPhone SE (128 GB) - Starlight (3rd Generation)',\n",
              "  'New Apple iPhone 12 (128GB) - Black with AirPods with Charging Case',\n",
              "  'Apple iPhone 11 (128GB) - (Product) RED',\n",
              "  'Apple iPhone SE (256 GB) - Midnight (3rd Generation)',\n",
              "  'Apple iPhone SE (256 GB) - (Product) RED (3rd Generation)',\n",
              "  'Apple iPhone SE (128 GB) - (Product) RED (3rd Generation)',\n",
              "  'Apple iPhone 12 (64GB) - Blue',\n",
              "  'Apple iPhone XR (128GB) - Coral',\n",
              "  'Apple iPhone 13 (128GB) - Starlight',\n",
              "  'New Apple iPhone 12 (64GB) - (Product) RED with Apple Clear Case with Magsafe (for iPhone 12, 12 Pro)',\n",
              "  'Apple iPhone 13 (512GB) - Blue']}"
            ]
          },
          "metadata": {},
          "execution_count": 76
        }
      ]
    },
    {
      "cell_type": "code",
      "source": [
        "Scraper.set_rule_aliases({'rule_x0e6':\"Phone_Name\",'rule_wzzr':'Price'})\n",
        "Scraper.keep_rules(['rule_x0e6','rule_wzzrj'])\n",
        "Scraper.save('Amazon Search')"
      ],
      "metadata": {
        "id": "5T6kNu7qu_nN"
      },
      "execution_count": 77,
      "outputs": []
    },
    {
      "cell_type": "code",
      "source": [
        "#Considered Nokiaphone details requied from url\n",
        "Nokia_results= Scraper.get_result_similar('https://www.amazon.in/s?k=nokia2022&crid=6IKNYDTM2MCI',group_by_alias=True)"
      ],
      "metadata": {
        "id": "kWP1wc1JvTo3"
      },
      "execution_count": 78,
      "outputs": []
    },
    {
      "cell_type": "code",
      "source": [
        "Nokia_results['Phone_Name']"
      ],
      "metadata": {
        "colab": {
          "base_uri": "https://localhost:8080/"
        },
        "id": "Bscvm8TLwNhm",
        "outputId": "b5c96d1d-0db2-4425-e6e2-6f8fb2508598"
      },
      "execution_count": 79,
      "outputs": [
        {
          "output_type": "execute_result",
          "data": {
            "text/plain": [
              "['Nokia 225 4G Dual SIM Feature Phone with Long Battery Life, Camera, Multiplayer Games, and Premium Finish – Metallic Sand ...',\n",
              " 'Nokia XR20 5G, IP68 & Military-Grade casing, Corning Gorilla Glass Victus, 6GB RAM/128GB Storage, Blue',\n",
              " 'Nokia G10, 6.5” HD+ Screen, 5050 mAh Battery, Triple Camera, 4 + 64GB Memory(Dusk/Purple)',\n",
              " 'Nokia 225 4G Dual SIM Feature Phone with Long Battery Life, Camera, Multiplayer Games, and Premium Finish – Black Colour',\n",
              " 'Nokia 5310 Dual SIM Keypad Phone with MP3 Player, Wireless FM Radio and Rear Camera with Flash | White/Red',\n",
              " 'Nokia XR20 5G, IP68 & Military-Grade casing, Corning Gorilla Glass Victus, 6 + 128GB Memory, Grey',\n",
              " 'Nokia 105 Single SIM (Blue)',\n",
              " '(Renewed) Nokia 6310 Dual SIM Feature Phone with a 2.8” Screen, Wireless FM Radio and Rear Camera | Blue',\n",
              " 'Nokia 5.4 (Dusk, 4GB RAM, 64GB Storage) with No Cost EMI/Additional Exchange Offers',\n",
              " 'Nokia 6310 Dual SIM Keypad Phone with a 2.8” Screen, Wireless FM Radio and Rear Camera with Flash | Black',\n",
              " 'NOKIA 105 Dual SIM (Dark Blue)',\n",
              " 'Nokia G20, 48MP Quad Camera, 5050 mAh Battery, 6.5',\n",
              " 'Nokia 5310 Dual SIM Keypad Phone with MP3 Player, Wireless FM Radio and Rear Camera with Flash | Black/Red',\n",
              " 'Nokia C20 Plus, 6.5',\n",
              " 'Nokia 150 (2020) (Black)',\n",
              " 'Nokia G20 Smartphone, Dual SIM 4G, 4GB RAM/64GB Storage, 48MP Quad Camera with 6.5” (16.51 cm) Screen | Silver, 4GB+64Gb']"
            ]
          },
          "metadata": {},
          "execution_count": 79
        }
      ]
    },
    {
      "cell_type": "code",
      "source": [
        ""
      ],
      "metadata": {
        "id": "_JUsY12Iy_Rl"
      },
      "execution_count": null,
      "outputs": []
    }
  ]
}